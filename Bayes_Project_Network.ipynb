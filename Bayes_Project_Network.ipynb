{
 "cells": [
  {
   "cell_type": "code",
   "execution_count": 13,
   "id": "cda42384-3611-4194-b5e9-f1912b24c6ea",
   "metadata": {},
   "outputs": [],
   "source": [
    "import pandas as pd\n",
    "import networkx as nx\n",
    "import matplotlib.pyplot as plt\n",
    "from pgmpy.models import BayesianNetwork\n",
    "from pgmpy.estimators import MaximumLikelihoodEstimator, HillClimbSearch, BicScore\n",
    "from pgmpy.inference import VariableElimination\n",
    "from causalgraphicalmodels import CausalGraphicalModel\n",
    "from IPython.display import display"
   ]
  },
  {
   "cell_type": "code",
   "execution_count": 24,
   "id": "63b6a17f-d730-4f40-bc1b-e488bc97db96",
   "metadata": {},
   "outputs": [],
   "source": [
    "# Load the dataset\n",
    "\n",
    "data = pd.read_csv(\"Movie Final Data.csv\")"
   ]
  },
  {
   "cell_type": "code",
   "execution_count": 25,
   "id": "9582b6d0-16dc-4954-a22a-d678c3a1f60c",
   "metadata": {},
   "outputs": [],
   "source": [
    "# Select relevant features\n",
    "selected_columns = [\n",
    "    \"Production Budget (USD)\", \"Opening Weekend (USD)\", \"Max Theaters\", \"Weeks Run\",\n",
    "    \"Genre\", \"MPAA Rating\", \"Budget_to_WorldGross_Ratio\", \"Domestic_vs_International_Ratio\", \"Worldwide Box Office (USD)\"\n",
    "]\n",
    "data = data[selected_columns].dropna()"
   ]
  },
  {
   "cell_type": "code",
   "execution_count": 26,
   "id": "60149257-2734-44b8-9dff-ce5afd60a3e5",
   "metadata": {},
   "outputs": [],
   "source": [
    "# Create BoxOfficeSuccess based on median worldwide revenue\n",
    "data[\"BoxOfficeSuccess\"] = data[\"Worldwide Box Office (USD)\"].apply(lambda x: \"hit\" if x > data[\"Worldwide Box Office (USD)\"].median() else \"flop\")\n",
    "\n",
    "# Discretize continuous variables (binning into categories)\n",
    "data[\"Production Budget (USD)\"] = pd.qcut(data[\"Production Budget (USD)\"], q=3, labels=[\"low\", \"medium\", \"high\"])\n",
    "data[\"Opening Weekend (USD)\"] = pd.qcut(data[\"Opening Weekend (USD)\"], q=3, labels=[\"low\", \"medium\", \"high\"])\n",
    "data[\"Max Theaters\"] = pd.qcut(data[\"Max Theaters\"], q=3, labels=[\"small\", \"medium\", \"large\"])\n",
    "data[\"Weeks Run\"] = pd.qcut(data[\"Weeks Run\"], q=3, labels=[\"short\", \"average\", \"long\"])\n"
   ]
  },
  {
   "cell_type": "code",
   "execution_count": 27,
   "id": "154d387f-375d-404f-8593-1f3ef6459091",
   "metadata": {},
   "outputs": [],
   "source": [
    "# Define Bayesian Network Structure\n",
    "model = BayesianNetwork([\n",
    "    (\"Production Budget (USD)\", \"Opening Weekend (USD)\"),\n",
    "    (\"Opening Weekend (USD)\", \"BoxOfficeSuccess\"),\n",
    "    (\"Genre\", \"BoxOfficeSuccess\"),\n",
    "    (\"MPAA Rating\", \"BoxOfficeSuccess\"),\n",
    "    (\"Max Theaters\", \"BoxOfficeSuccess\"),\n",
    "    (\"Weeks Run\", \"BoxOfficeSuccess\")\n",
    "])"
   ]
  },
  {
   "cell_type": "code",
   "execution_count": 28,
   "id": "e1c3e3db-4f02-454d-8625-2b8e9e0ede38",
   "metadata": {},
   "outputs": [],
   "source": [
    "# Train the Bayesian Network\n",
    "model.fit(data, estimator=MaximumLikelihoodEstimator)"
   ]
  },
  {
   "cell_type": "code",
   "execution_count": 29,
   "id": "ff1a132c-1fbc-494f-bd26-3be25d905db6",
   "metadata": {},
   "outputs": [
    {
     "name": "stdout",
     "output_type": "stream",
     "text": [
      "CPD for Production Budget (USD): +---------------------------------+----------+\n",
      "| Production Budget (USD)(high)   | 0.333148 |\n",
      "+---------------------------------+----------+\n",
      "| Production Budget (USD)(low)    | 0.344086 |\n",
      "+---------------------------------+----------+\n",
      "| Production Budget (USD)(medium) | 0.322766 |\n",
      "+---------------------------------+----------+\n",
      "CPD for Opening Weekend (USD): +-------------------------------+-----+---------------------------------+\n",
      "| Production Budget (USD)       | ... | Production Budget (USD)(medium) |\n",
      "+-------------------------------+-----+---------------------------------+\n",
      "| Opening Weekend (USD)(high)   | ... | 0.2670878805284319              |\n",
      "+-------------------------------+-----+---------------------------------+\n",
      "| Opening Weekend (USD)(low)    | ... | 0.2527283170591614              |\n",
      "+-------------------------------+-----+---------------------------------+\n",
      "| Opening Weekend (USD)(medium) | ... | 0.48018380241240666             |\n",
      "+-------------------------------+-----+---------------------------------+\n",
      "CPD for BoxOfficeSuccess: +------------------------+-----+-------------------------------+\n",
      "| Genre                  | ... | Genre(Western)                |\n",
      "+------------------------+-----+-------------------------------+\n",
      "| MPAA Rating            | ... | MPAA Rating(R)                |\n",
      "+------------------------+-----+-------------------------------+\n",
      "| Max Theaters           | ... | Max Theaters(small)           |\n",
      "+------------------------+-----+-------------------------------+\n",
      "| Opening Weekend (USD)  | ... | Opening Weekend (USD)(medium) |\n",
      "+------------------------+-----+-------------------------------+\n",
      "| Weeks Run              | ... | Weeks Run(short)              |\n",
      "+------------------------+-----+-------------------------------+\n",
      "| BoxOfficeSuccess(flop) | ... | 1.0                           |\n",
      "+------------------------+-----+-------------------------------+\n",
      "| BoxOfficeSuccess(hit)  | ... | 0.0                           |\n",
      "+------------------------+-----+-------------------------------+\n",
      "CPD for Genre: +--------------------+-----------+\n",
      "| Genre(Action)      | 0.135892  |\n",
      "+--------------------+-----------+\n",
      "| Genre(Adventure)   | 0.115313  |\n",
      "+--------------------+-----------+\n",
      "| Genre(Comedy)      | 0.245458  |\n",
      "+--------------------+-----------+\n",
      "| Genre(Documentary) | 0.0187245 |\n",
      "+--------------------+-----------+\n",
      "| Genre(Drama)       | 0.271227  |\n",
      "+--------------------+-----------+\n",
      "| Genre(Horror)      | 0.0858361 |\n",
      "+--------------------+-----------+\n",
      "| Genre(Musical)     | 0.0166852 |\n",
      "+--------------------+-----------+\n",
      "| Genre(Thriller)    | 0.0999258 |\n",
      "+--------------------+-----------+\n",
      "| Genre(Western)     | 0.0109381 |\n",
      "+--------------------+-----------+\n",
      "CPD for MPAA Rating: +------------------------+------------+\n",
      "| MPAA Rating(G)         | 0.0185391  |\n",
      "+------------------------+------------+\n",
      "| MPAA Rating(NC-17)     | 0.00166852 |\n",
      "+------------------------+------------+\n",
      "| MPAA Rating(NOT RATED) | 0.0448647  |\n",
      "+------------------------+------------+\n",
      "| MPAA Rating(PG)        | 0.489618   |\n",
      "+------------------------+------------+\n",
      "| MPAA Rating(R)         | 0.44531    |\n",
      "+------------------------+------------+\n",
      "CPD for Max Theaters: +----------------------+----------+\n",
      "| Max Theaters(large)  | 0.333333 |\n",
      "+----------------------+----------+\n",
      "| Max Theaters(medium) | 0.333333 |\n",
      "+----------------------+----------+\n",
      "| Max Theaters(small)  | 0.333333 |\n",
      "+----------------------+----------+\n",
      "CPD for Weeks Run: +--------------------+----------+\n",
      "| Weeks Run(average) | 0.33389  |\n",
      "+--------------------+----------+\n",
      "| Weeks Run(long)    | 0.330738 |\n",
      "+--------------------+----------+\n",
      "| Weeks Run(short)   | 0.335373 |\n",
      "+--------------------+----------+\n"
     ]
    }
   ],
   "source": [
    "# Display learned CPDs\n",
    "for cpd in model.get_cpds():\n",
    "    print(f\"CPD for {cpd.variable}:\", cpd)"
   ]
  },
  {
   "cell_type": "markdown",
   "id": "4fb1a764-f223-48a3-8d6f-4633136562d8",
   "metadata": {},
   "source": [
    "#### CPD for Production Budget: \n",
    "The dataset is fairly balanced across low, medium, and high budgets. No significant skew—movies are evenly distributed in terms of budget\n",
    "\n",
    "#### CPD for Opening Weekend (USD):\n",
    "48% of movies fall into the \"medium\" opening weekend range. High and low openings occur at a similar rate (~25% each). This suggests most movies have mid-tier openings, but extremes (blockbusters or flops) are less common.\n",
    "\n",
    "#### CPD for BoxOfficeSuccess:\n",
    "Movies in the Western genre have 0% probability of being a hit. R-rated movies also seem to have very poor success rates.\n",
    "If a movie opens in a small number of theaters, it is guaranteed to flop. If a movie has a medium opening weekend but only runs for a short period, it will fail. Western movies struggle at the box office. R-rated movies have a harder time succeeding, likely due to restricted audiences. Small releases and short runs strongly predict failure.\n",
    "\n",
    "#### CPD for Genre Distribution:\n",
    "Drama (27%) and Comedy (24%) are the most common genres. Westerns (~1%) and Musicals (~1.6%) are rare in the dataset.\n",
    "Horror (8.5%) and Thriller (9.9%) are relatively small categories. Since Western movies already have a low probability of success (0%), and they only make up ~1% of movies, studios should avoid investing in Westerns unless other success factors are very strong.\n",
    "\n",
    "#### CPD for MPAA Rating:\n",
    "PG-rated movies dominate (49%), followed closely by R-rated (44%). NC-17 movies are extremely rare (~0.16%). G-rated movies are also uncommon (~1.85%). PG movies are the safest bet since they have a wide audience. NC-17 movies are extremely rare and may struggle to succee\n",
    "\n",
    "#### CPD for Theater Count:\n",
    "Equal distribution of movies across small, medium, and large releases.\n",
    "\n",
    "#### CPD for Weeks Run:\n",
    "Even distribution across short, medium, and long-running movies.\n"
   ]
  },
  {
   "cell_type": "code",
   "execution_count": 30,
   "id": "a4237485-9a09-47c2-87be-7359b8bdedb1",
   "metadata": {},
   "outputs": [
    {
     "name": "stdout",
     "output_type": "stream",
     "text": [
      "Probability of BoxOfficeSuccess given high budget & large theater count: +------------------------+-------------------------+\n",
      "| BoxOfficeSuccess       |   phi(BoxOfficeSuccess) |\n",
      "+========================+=========================+\n",
      "| BoxOfficeSuccess(flop) |                  0.1877 |\n",
      "+------------------------+-------------------------+\n",
      "| BoxOfficeSuccess(hit)  |                  0.8123 |\n",
      "+------------------------+-------------------------+\n"
     ]
    }
   ],
   "source": [
    "# Perform Inference\n",
    "inference = VariableElimination(model)\n",
    "result = inference.query(variables=[\"BoxOfficeSuccess\"], evidence={\"Production Budget (USD)\": \"high\", \"Max Theaters\": \"large\"})\n",
    "print(\"Probability of BoxOfficeSuccess given high budget & large theater count:\", result)"
   ]
  },
  {
   "cell_type": "markdown",
   "id": "8d6b5a42-63fd-4137-a434-be62314a13d5",
   "metadata": {},
   "source": [
    "A 81.23% probability of success, and a 18.77% probability of failure This suggests that movies with high budgets and wide releases have a strong chance (81%) of being a hit, but success is not guaranteed.\n"
   ]
  },
  {
   "cell_type": "code",
   "execution_count": 22,
   "id": "cec81b87-df5d-419d-b4ab-3c83c8ed7c0f",
   "metadata": {},
   "outputs": [],
   "source": [
    "import os\n",
    "os.environ[\"PATH\"] += os.pathsep + \"/Users/yidiwang/opt/miniconda3/envs/pgmpy_env/bin\""
   ]
  },
  {
   "cell_type": "code",
   "execution_count": 31,
   "id": "88ca8246-927b-4926-8b10-b0d5ac9119b6",
   "metadata": {},
   "outputs": [
    {
     "name": "stdout",
     "output_type": "stream",
     "text": [
      "<class 'graphviz.graphs.Digraph'>\n",
      "Model: Bayesian Network Model\n"
     ]
    },
    {
     "data": {
      "image/svg+xml": [
       "<?xml version=\"1.0\" encoding=\"UTF-8\" standalone=\"no\"?>\n",
       "<!DOCTYPE svg PUBLIC \"-//W3C//DTD SVG 1.1//EN\"\n",
       " \"http://www.w3.org/Graphics/SVG/1.1/DTD/svg11.dtd\">\n",
       "<!-- Generated by graphviz version 12.2.1 (20241206.2353)\n",
       " -->\n",
       "<!-- Pages: 1 -->\n",
       "<svg width=\"723pt\" height=\"188pt\"\n",
       " viewBox=\"0.00 0.00 723.31 188.00\" xmlns=\"http://www.w3.org/2000/svg\" xmlns:xlink=\"http://www.w3.org/1999/xlink\">\n",
       "<g id=\"graph0\" class=\"graph\" transform=\"scale(1 1) rotate(0) translate(4 184)\">\n",
       "<polygon fill=\"white\" stroke=\"none\" points=\"-4,4 -4,-184 719.31,-184 719.31,4 -4,4\"/>\n",
       "<!-- MPAA Rating -->\n",
       "<g id=\"node1\" class=\"node\">\n",
       "<title>MPAA Rating</title>\n",
       "<ellipse fill=\"none\" stroke=\"black\" cx=\"64.66\" cy=\"-90\" rx=\"64.66\" ry=\"18\"/>\n",
       "<text text-anchor=\"middle\" x=\"64.66\" y=\"-84.95\" font-family=\"Times,serif\" font-size=\"14.00\">MPAA Rating</text>\n",
       "</g>\n",
       "<!-- BoxOfficeSuccess -->\n",
       "<g id=\"node4\" class=\"node\">\n",
       "<title>BoxOfficeSuccess</title>\n",
       "<ellipse fill=\"none\" stroke=\"black\" cx=\"294.66\" cy=\"-18\" rx=\"78.99\" ry=\"18\"/>\n",
       "<text text-anchor=\"middle\" x=\"294.66\" y=\"-12.95\" font-family=\"Times,serif\" font-size=\"14.00\">BoxOfficeSuccess</text>\n",
       "</g>\n",
       "<!-- MPAA Rating&#45;&gt;BoxOfficeSuccess -->\n",
       "<g id=\"edge4\" class=\"edge\">\n",
       "<title>MPAA Rating&#45;&gt;BoxOfficeSuccess</title>\n",
       "<path fill=\"none\" stroke=\"black\" d=\"M107.11,-76.08C143.85,-64.9 197.29,-48.63 237.73,-36.33\"/>\n",
       "<polygon fill=\"black\" stroke=\"black\" points=\"238.51,-39.75 247.06,-33.49 236.47,-33.05 238.51,-39.75\"/>\n",
       "</g>\n",
       "<!-- Genre -->\n",
       "<g id=\"node2\" class=\"node\">\n",
       "<title>Genre</title>\n",
       "<ellipse fill=\"none\" stroke=\"black\" cx=\"180.66\" cy=\"-90\" rx=\"33.44\" ry=\"18\"/>\n",
       "<text text-anchor=\"middle\" x=\"180.66\" y=\"-84.95\" font-family=\"Times,serif\" font-size=\"14.00\">Genre</text>\n",
       "</g>\n",
       "<!-- Genre&#45;&gt;BoxOfficeSuccess -->\n",
       "<g id=\"edge3\" class=\"edge\">\n",
       "<title>Genre&#45;&gt;BoxOfficeSuccess</title>\n",
       "<path fill=\"none\" stroke=\"black\" d=\"M202.1,-75.83C217.96,-66.1 239.92,-52.61 258.48,-41.22\"/>\n",
       "<polygon fill=\"black\" stroke=\"black\" points=\"260.11,-44.32 266.8,-36.1 256.45,-38.35 260.11,-44.32\"/>\n",
       "</g>\n",
       "<!-- Production Budget (USD) -->\n",
       "<g id=\"node3\" class=\"node\">\n",
       "<title>Production Budget (USD)</title>\n",
       "<ellipse fill=\"none\" stroke=\"black\" cx=\"607.66\" cy=\"-162\" rx=\"107.65\" ry=\"18\"/>\n",
       "<text text-anchor=\"middle\" x=\"607.66\" y=\"-156.95\" font-family=\"Times,serif\" font-size=\"14.00\">Production Budget (USD)</text>\n",
       "</g>\n",
       "<!-- Opening Weekend (USD) -->\n",
       "<g id=\"node7\" class=\"node\">\n",
       "<title>Opening Weekend (USD)</title>\n",
       "<ellipse fill=\"none\" stroke=\"black\" cx=\"607.66\" cy=\"-90\" rx=\"106.63\" ry=\"18\"/>\n",
       "<text text-anchor=\"middle\" x=\"607.66\" y=\"-84.95\" font-family=\"Times,serif\" font-size=\"14.00\">Opening Weekend (USD)</text>\n",
       "</g>\n",
       "<!-- Production Budget (USD)&#45;&gt;Opening Weekend (USD) -->\n",
       "<g id=\"edge1\" class=\"edge\">\n",
       "<title>Production Budget (USD)&#45;&gt;Opening Weekend (USD)</title>\n",
       "<path fill=\"none\" stroke=\"black\" d=\"M607.66,-143.7C607.66,-136.41 607.66,-127.73 607.66,-119.54\"/>\n",
       "<polygon fill=\"black\" stroke=\"black\" points=\"611.16,-119.62 607.66,-109.62 604.16,-119.62 611.16,-119.62\"/>\n",
       "</g>\n",
       "<!-- Max Theaters -->\n",
       "<g id=\"node5\" class=\"node\">\n",
       "<title>Max Theaters</title>\n",
       "<ellipse fill=\"none\" stroke=\"black\" cx=\"294.66\" cy=\"-90\" rx=\"62.1\" ry=\"18\"/>\n",
       "<text text-anchor=\"middle\" x=\"294.66\" y=\"-84.95\" font-family=\"Times,serif\" font-size=\"14.00\">Max Theaters</text>\n",
       "</g>\n",
       "<!-- Max Theaters&#45;&gt;BoxOfficeSuccess -->\n",
       "<g id=\"edge5\" class=\"edge\">\n",
       "<title>Max Theaters&#45;&gt;BoxOfficeSuccess</title>\n",
       "<path fill=\"none\" stroke=\"black\" d=\"M294.66,-71.7C294.66,-64.41 294.66,-55.73 294.66,-47.54\"/>\n",
       "<polygon fill=\"black\" stroke=\"black\" points=\"298.16,-47.62 294.66,-37.62 291.16,-47.62 298.16,-47.62\"/>\n",
       "</g>\n",
       "<!-- Weeks Run -->\n",
       "<g id=\"node6\" class=\"node\">\n",
       "<title>Weeks Run</title>\n",
       "<ellipse fill=\"none\" stroke=\"black\" cx=\"428.66\" cy=\"-90\" rx=\"53.91\" ry=\"18\"/>\n",
       "<text text-anchor=\"middle\" x=\"428.66\" y=\"-84.95\" font-family=\"Times,serif\" font-size=\"14.00\">Weeks Run</text>\n",
       "</g>\n",
       "<!-- Weeks Run&#45;&gt;BoxOfficeSuccess -->\n",
       "<g id=\"edge6\" class=\"edge\">\n",
       "<title>Weeks Run&#45;&gt;BoxOfficeSuccess</title>\n",
       "<path fill=\"none\" stroke=\"black\" d=\"M400.57,-74.33C381.57,-64.4 356.19,-51.15 335.04,-40.1\"/>\n",
       "<polygon fill=\"black\" stroke=\"black\" points=\"336.87,-37.1 326.39,-35.57 333.63,-43.31 336.87,-37.1\"/>\n",
       "</g>\n",
       "<!-- Opening Weekend (USD)&#45;&gt;BoxOfficeSuccess -->\n",
       "<g id=\"edge2\" class=\"edge\">\n",
       "<title>Opening Weekend (USD)&#45;&gt;BoxOfficeSuccess</title>\n",
       "<path fill=\"none\" stroke=\"black\" d=\"M545.07,-75C491.58,-63.04 414.86,-45.88 360.46,-33.72\"/>\n",
       "<polygon fill=\"black\" stroke=\"black\" points=\"361.55,-30.37 351.03,-31.61 360.02,-37.2 361.55,-30.37\"/>\n",
       "</g>\n",
       "</g>\n",
       "</svg>\n"
      ],
      "text/plain": [
       "<graphviz.graphs.Digraph at 0x2e2a20700>"
      ]
     },
     "metadata": {},
     "output_type": "display_data"
    }
   ],
   "source": [
    "# Visualize the Bayesian Network using CausalGraphicalModel\n",
    "def draw_model(model, title, filename):\n",
    "    graph = CausalGraphicalModel(nodes=model.nodes(), edges=model.edges())\n",
    "    dot = graph.draw()\n",
    "    print(type(dot))\n",
    "    print(f\"Model: {title}\")\n",
    "    display(dot)\n",
    "    dot.render(filename=filename, format=\"pdf\")  \n",
    "\n",
    "draw_model(model, title=\"Bayesian Network Model\", filename=\"bayesian_network\")"
   ]
  },
  {
   "cell_type": "markdown",
   "id": "cb4af8e2-5f2c-4fc8-b707-fba8d809102f",
   "metadata": {},
   "source": []
  },
  {
   "cell_type": "markdown",
   "id": "024273b1-5299-4e68-a109-3e92c0400463",
   "metadata": {},
   "source": [
    "In the Bayesian Network Structure, Nodes represent variables in the model, such as Production Budget, Opening Weekend, Genre, MPAA Rating, Max Theaters, Weeks Run, and BoxOfficeSuccess.\n",
    "For example, “Production Budget (USD)\" → \"Opening Weekend (USD)\" suggest that higher budgets impact opening weekend revenue; and \"Opening Weekend (USD)\" → \"BoxOfficeSuccess\" indicates that a strong opening weekend is a predictor of overall success."
   ]
  },
  {
   "cell_type": "code",
   "execution_count": null,
   "id": "d33cf6a8-16b5-40af-8d52-d9c725e99740",
   "metadata": {},
   "outputs": [],
   "source": []
  }
 ],
 "metadata": {
  "kernelspec": {
   "display_name": "Python (pgmpy_env)",
   "language": "python",
   "name": "pgmpy_env"
  },
  "language_info": {
   "codemirror_mode": {
    "name": "ipython",
    "version": 3
   },
   "file_extension": ".py",
   "mimetype": "text/x-python",
   "name": "python",
   "nbconvert_exporter": "python",
   "pygments_lexer": "ipython3",
   "version": "3.9.21"
  }
 },
 "nbformat": 4,
 "nbformat_minor": 5
}
